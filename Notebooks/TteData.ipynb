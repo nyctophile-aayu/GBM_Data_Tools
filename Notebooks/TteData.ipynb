{
 "cells": [
  {
   "cell_type": "markdown",
   "metadata": {},
   "source": [
    "# TTE Data\n",
    "\n",
    "TTE (Time-Tagged Event) data is basically a time-series of \"counts\" where each count is mapped to an energy channel.  It is basically the temporally unbinned representation of CSPEC data (128 energy channels).  We can read a TTE file much the same way we can read a CTIME or CSPEC file."
   ]
  },
  {
   "cell_type": "code",
   "execution_count": 1,
   "metadata": {},
   "outputs": [
    {
     "name": "stdout",
     "output_type": "stream",
     "text": [
      "glg_tte_n9_bn090131090_v00.fit\n"
     ]
    }
   ],
   "source": [
    "from gbm import test_data_dir\n",
    "# import the TTE data class\n",
    "from gbm.data import TTE\n",
    "\n",
    "# read a tte file\n",
    "tte = TTE.open(test_data_dir+'/glg_tte_n9_bn090131090_v00.fit')\n",
    "print(tte)"
   ]
  },
  {
   "cell_type": "markdown",
   "metadata": {},
   "source": [
    "Similar to the other datatypes, TTE data are stored in FITS files, and so all the metadata in the headers can be accessed:"
   ]
  },
  {
   "cell_type": "code",
   "execution_count": 2,
   "metadata": {},
   "outputs": [
    {
     "data": {
      "text/plain": [
       "odict_keys(['PRIMARY', 'EBOUNDS', 'EVENTS', 'GTI'])"
      ]
     },
     "execution_count": 2,
     "metadata": {},
     "output_type": "execute_result"
    }
   ],
   "source": [
    "# list the headers in the file\n",
    "tte.headers.keys()"
   ]
  },
  {
   "cell_type": "code",
   "execution_count": 3,
   "metadata": {},
   "outputs": [
    {
     "data": {
      "text/plain": [
       "SIMPLE  =                    T / file does conform to FITS standard             \n",
       "BITPIX  =                    8 / number of bits per data pixel                  \n",
       "NAXIS   =                    0 / number of data axes                            \n",
       "EXTEND  =                    T / FITS dataset may contain extensions            \n",
       "COMMENT   FITS (Flexible Image Transport System) format is defined in 'Astronomy\n",
       "COMMENT   and Astrophysics', volume 376, page 359; bibcode: 2001A&A...376..359H \n",
       "CREATOR = 'GBM_TTE_Reader.pl v2.8' / Software and version creating file         \n",
       "FILETYPE= 'GBM PHOTON LIST'    / Name for this type of FITS file                \n",
       "FILE-VER= '1.0.0   '           / Version of the format for this filetype        \n",
       "TELESCOP= 'GLAST   '           / Name of mission/satellite                      \n",
       "INSTRUME= 'GBM     '           / Specific instrument used for observation       \n",
       "DETNAM  = 'NAI_09  '           / Individual detector name                       \n",
       "OBSERVER= 'Meegan  '           / GLAST Burst Monitor P.I.                       \n",
       "ORIGIN  = 'GIOC    '           / Name of organization making file               \n",
       "DATE    = '2009-01-31T04:55:38' / file creation date (YYYY-MM-DDThh:mm:ss UT)   \n",
       "DATE-OBS= '2009-01-31T02:08:57' / Date of start of observation                  \n",
       "DATE-END= '2009-01-31T02:14:23' / Date of end of observation                    \n",
       "TIMESYS = 'TT      '           / Time system used in time keywords              \n",
       "TIMEUNIT= 's       '           / Time since MJDREF, used in TSTART and TSTOP    \n",
       "MJDREFI =                51910 / MJD of GLAST reference epoch, integer part     \n",
       "MJDREFF = 7.428703703703703D-4 / MJD of GLAST reference epoch, fractional part  \n",
       "TSTART  =     255060537.657974 / [GLAST MET] Observation start time             \n",
       "TSTOP   =     255060863.884596 / [GLAST MET] Observation stop time              \n",
       "FILENAME= 'glg_tte_n9_bn090131090_v00.fit' / Name of this file                  \n",
       "DATATYPE= 'TTE     '           / GBM datatype used for this file                \n",
       "TRIGTIME=     255060563.149072 / Trigger time relative to MJDREF, double precisi\n",
       "OBJECT  = 'GRB090131090'       / Burst name in standard format, yymmddfff       \n",
       "RADECSYS= 'FK5     '           / Stellar reference frame                        \n",
       "EQUINOX =               2000.0 / Equinox for RA and Dec                         \n",
       "RA_OBJ  =              30.0000 / Calculated RA of burst                         \n",
       "DEC_OBJ =              -15.000 / Calculated Dec of burst                        \n",
       "ERR_RAD =                3.000 / Calculated Location Error Radius               \n",
       "INFILE01= 'glg_lutcs_nai_090122805_v00.fit' / Level 1 input lookup table file   \n",
       "INFILE02= 'GLAST_2009031_042300_VC09_GBTTE.0.00' / Level 0 input data file      \n",
       "CHECKSUM= 'MePaNZNUMbNZMZNZ'   / HDU checksum updated 2009-01-31T04:55:40       \n",
       "DATASUM = '         0'         / data unit checksum updated 2009-01-31T04:55:38 "
      ]
     },
     "execution_count": 3,
     "metadata": {},
     "output_type": "execute_result"
    }
   ],
   "source": [
    "# print the metadata in the PRIMARY header\n",
    "tte.headers['PRIMARY']"
   ]
  },
  {
   "cell_type": "markdown",
   "metadata": {},
   "source": [
    "There is also easy access for certain important properties:"
   ]
  },
  {
   "cell_type": "code",
   "execution_count": 4,
   "metadata": {},
   "outputs": [
    {
     "name": "stdout",
     "output_type": "stream",
     "text": [
      "GTI: [[-25.49109798669815, 300.73552399873734]]\n",
      "Trigger time: 255060563.149072\n",
      "Time Range: (-25.49109798669815, 300.73552399873734)\n",
      "Energy Range: (4.3897295, 2000.0)\n",
      "# of Energy Channels: 128\n"
     ]
    }
   ],
   "source": [
    "# certain useful properties are easily accessible\n",
    "print(\"GTI: {}\".format(tte.gti))\n",
    "print(\"Trigger time: {}\".format(tte.trigtime))\n",
    "print(\"Time Range: {}\".format(tte.time_range))\n",
    "print(\"Energy Range: {}\".format(tte.energy_range))\n",
    "print('# of Energy Channels: {}'.format(tte.numchans))"
   ]
  },
  {
   "cell_type": "markdown",
   "metadata": {},
   "source": [
    "The TTE data class is modeled as a wrapper around the ```EventList``` [Data Primitive](./DataPrimitives.ipynb) in ```gbm.data.primitives```, and the underlying data can be accessed via the ```.data``` attribute:"
   ]
  },
  {
   "cell_type": "code",
   "execution_count": 5,
   "metadata": {},
   "outputs": [
    {
     "data": {
      "text/plain": [
       "<gbm.data.primitives.EventList at 0x121bb6fd0>"
      ]
     },
     "execution_count": 5,
     "metadata": {},
     "output_type": "execute_result"
    }
   ],
   "source": [
    "tte.data"
   ]
  },
  {
   "cell_type": "markdown",
   "metadata": {},
   "source": [
    "Most casual users need not directly worry about the ```EventList``` data primitive, though.  The TTE data objects contain the high-level functionality to perform a lot of common data reduction.  For example, if we only want to work with a short time segment of TTE data in the file, we can take a slice of the data and return a new fully-functional data object with the time-sliced data:"
   ]
  },
  {
   "cell_type": "code",
   "execution_count": 6,
   "metadata": {},
   "outputs": [
    {
     "name": "stdout",
     "output_type": "stream",
     "text": [
      "(-9.999035984277725, 9.998922020196915)\n"
     ]
    }
   ],
   "source": [
    "# slice from -10 to +10 s\n",
    "time_sliced_tte = tte.slice_time([-10.0, 10.0])\n",
    "print(time_sliced_tte.time_range)"
   ]
  },
  {
   "cell_type": "markdown",
   "metadata": {},
   "source": [
    "And you can slice in energy:"
   ]
  },
  {
   "cell_type": "code",
   "execution_count": 7,
   "metadata": {},
   "outputs": [
    {
     "name": "stdout",
     "output_type": "stream",
     "text": [
      "(48.08033, 304.68533)\n"
     ]
    }
   ],
   "source": [
    "# slice from ~50 keV to ~300 keV\n",
    "energy_sliced_tte = tte.slice_energy((50.0, 300.0))\n",
    "print(energy_sliced_tte.energy_range)"
   ]
  },
  {
   "cell_type": "markdown",
   "metadata": {},
   "source": [
    "Making a lightcurve using TTE data is slightly more complicated than it is for the pre-binned data because the TTE is temporally unbinned.  So first the data has to be binned, and then it can be displayed.  On the [CTIME/CSPEC](./PhaiiData.ipynb) page, we were briefly introduced to the capability of *rebinning* pre-binned data.  Here, we want to *bin* unbinned data.  In the ```gbm.binning``` module, there are two sub-modules containing various binning algorithms, one for pre-binned data, the other for unbinned data.  We should choose the sub-module that is appropriate for the data that we are using."
   ]
  },
  {
   "cell_type": "code",
   "execution_count": 8,
   "metadata": {},
   "outputs": [],
   "source": [
    "# import the bin_by_time algorithm for unbinned data\n",
    "# This function is the unbinned equivalent of gbm.binning.binned.rebin_by_time\n",
    "from gbm.binning.unbinned import bin_by_time"
   ]
  },
  {
   "cell_type": "markdown",
   "metadata": {},
   "source": [
    "Once we've identified the binning algorithm we want to use, then we can *convert* our TTE data object to a PHAII object similar to CTIME/CSPEC:"
   ]
  },
  {
   "cell_type": "code",
   "execution_count": 9,
   "metadata": {},
   "outputs": [
    {
     "data": {
      "text/plain": [
       "gbm.data.phaii.Cspec"
      ]
     },
     "execution_count": 9,
     "metadata": {},
     "output_type": "execute_result"
    }
   ],
   "source": [
    "# bin TTE to 1.024 s resolution. \n",
    "# time_ref is the reference time for binning;\n",
    "# if not set, it will bin starting at the beginning of the data\n",
    "phaii = tte.to_phaii(bin_by_time, 1.024, time_ref=0.0)\n",
    "type(phaii)"
   ]
  },
  {
   "cell_type": "markdown",
   "metadata": {},
   "source": [
    "Well that's cool, but why is it a ``Cspec`` object now?  It's Cspec because TTE has 128 energy channels, just like CSPEC.  We'll see what the spectrum looks like in a sec.  But first, let's look at the lightcurve.  Since it's a PHAII object, we can make a lightcurve plot the same way we would make one using pre-binned data:"
   ]
  },
  {
   "cell_type": "code",
   "execution_count": 10,
   "metadata": {
    "scrolled": false
   },
   "outputs": [
    {
     "data": {
      "image/png": "[encoded data removed]",
      "text/plain": [
       "<Figure size 770x470 with 1 Axes>"
      ]
     },
     "metadata": {
      "needs_background": "light"
     },
     "output_type": "display_data"
    }
   ],
   "source": [
    "%matplotlib inline\n",
    "import matplotlib.pyplot as plt\n",
    "from gbm.plot import Lightcurve\n",
    "\n",
    "lcplot = Lightcurve(data=phaii.to_lightcurve())\n",
    "plt.show()"
   ]
  },
  {
   "cell_type": "markdown",
   "metadata": {},
   "source": [
    "A nice looking GRB!  Now if you wanted to rebin the data, you could certainly rebin the PHAII object, but if you want to leverage the full power and flexibility of TTE, it would be good to (re)bin the TTE data using the algorithm and settings of your choice.\n",
    "\n",
    "To plot the spectrum, we don't have to worry about binning the data, since the TTE is already necessarily pre-binned in energy.  So we can make a spectrum plot the same way we make one for CTIME/CSPEC without any extra steps:"
   ]
  },
  {
   "cell_type": "code",
   "execution_count": 11,
   "metadata": {},
   "outputs": [
    {
     "data": {
      "image/png": "[encoded data removed]",
      "text/plain": [
       "<Figure size 770x470 with 1 Axes>"
      ]
     },
     "metadata": {
      "needs_background": "light"
     },
     "output_type": "display_data"
    }
   ],
   "source": [
    "from gbm.plot import Spectrum\n",
    "\n",
    "# integrate over time from 0-10 s\n",
    "spectrum = tte.to_spectrum(time_range=(0.0, 10.0))\n",
    "\n",
    "specplot = Spectrum(data=spectrum)\n",
    "plt.show()"
   ]
  },
  {
   "cell_type": "markdown",
   "metadata": {},
   "source": [
    "A very nice count spectrum, certainly much prettier than the CTIME spectrum!  Note that this is integrated over the full time range of the data. Perhaps the spectral resolution is a little bit higher than you care for (i.e. studying a weak source).  You can rebin the count spectrum, but remember that the energy is pre-binned, so you need to use the appropriate class of algorithms:"
   ]
  },
  {
   "cell_type": "code",
   "execution_count": 12,
   "metadata": {},
   "outputs": [
    {
     "data": {
      "image/png": "[encoded data removed]",
      "text/plain": [
       "<Figure size 770x470 with 1 Axes>"
      ]
     },
     "metadata": {
      "needs_background": "light"
     },
     "output_type": "display_data"
    }
   ],
   "source": [
    "from gbm.binning.binned import combine_by_factor\n",
    "\n",
    "# rebin the count spectrum by a factor of 4\n",
    "rebinned_energy = tte.rebin_energy(combine_by_factor, 4)\n",
    "\n",
    "rebinned_spectrum = rebinned_energy.to_spectrum(time_range=(0.0, 10.0))\n",
    "specplot = Spectrum(data=rebinned_spectrum)\n",
    "plt.show()"
   ]
  },
  {
   "cell_type": "markdown",
   "metadata": {},
   "source": [
    "As with the pre-binned types, we can convert one or more time selections to a single spectrum PHA object.  You can do this from TTE without having to bin in time:"
   ]
  },
  {
   "cell_type": "code",
   "execution_count": 13,
   "metadata": {},
   "outputs": [],
   "source": [
    "# create a PHA object by integrating over 0-10 s and 30-50 s\n",
    "pha = tte.to_pha(time_ranges=[(0.0, 10.0), (30.0, 50.0)])"
   ]
  },
  {
   "cell_type": "markdown",
   "metadata": {},
   "source": [
    "Sometimes, you might want to save snippets of TTE, or even merge your TTE snippets into one file and write it to file for later. Guess what?  You can do that, too:"
   ]
  },
  {
   "cell_type": "code",
   "execution_count": 14,
   "metadata": {},
   "outputs": [
    {
     "data": {
      "text/plain": [
       "(-9.999035984277725, 49.99965399503708)"
      ]
     },
     "execution_count": 14,
     "metadata": {},
     "output_type": "execute_result"
    }
   ],
   "source": [
    "time_sliced_tte2 = tte.slice_time([30.0, 50.0])\n",
    "\n",
    "# merge our new time slice with the time slice we made earlier\n",
    "tte_slices_merged = TTE.merge([time_sliced_tte, time_sliced_tte2])\n",
    "tte_slices_merged.time_range"
   ]
  },
  {
   "cell_type": "markdown",
   "metadata": {},
   "source": [
    "And then you can write it as a fully-qualified TTE FITS file using\n",
    "```python\n",
    "tte_slices_merged.write('./', filename='my_first_custom_tte.fit')\n",
    "```\n",
    "\n",
    "You've just learned all about the primary GBM Science Data!  Follow on to learn about the GBM detector [response files](./Responses.ipynb)"
   ]
  }
 ],
 "metadata": {
  "kernelspec": {
   "display_name": "Python 3 (ipykernel)",
   "language": "python",
   "name": "python3"
  },
  "language_info": {
   "codemirror_mode": {
    "name": "ipython",
    "version": 3
   },
   "file_extension": ".py",
   "mimetype": "text/x-python",
   "name": "python",
   "nbconvert_exporter": "python",
   "pygments_lexer": "ipython3",
   "version": "3.9.13"
  }
 },
 "nbformat": 4,
 "nbformat_minor": 2
}
