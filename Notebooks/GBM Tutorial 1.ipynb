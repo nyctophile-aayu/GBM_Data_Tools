{
 "cells": [
  {
   "cell_type": "code",
   "execution_count": 1,
   "id": "0fe37229",
   "metadata": {},
   "outputs": [
    {
     "name": "stderr",
     "output_type": "stream",
     "text": [
      "/home/lonewolf/mambaforge/lib/python3.10/site-packages/gbm/plot/lal_post_subs.py:184: UserWarning: Basemap not installed. Some functionality not available.\n",
      "  warnings.warn('Basemap not installed. Some functionality not available.')\n"
     ]
    }
   ],
   "source": [
    "# Let's take a look at basic Science data functionality with the GBM Data Tools\n",
    "# Science file in Cspec which is binned in for both Energy and time.\n",
    "from gbm.data import Cspec"
   ]
  },
  {
   "cell_type": "code",
   "execution_count": 2,
   "id": "0dbabfe7",
   "metadata": {},
   "outputs": [],
   "source": [
    "# import Cspec file\n",
    "cspec = Cspec.open('glg_cspec_n2_bn220921462_v00.pha')"
   ]
  },
  {
   "cell_type": "code",
   "execution_count": 3,
   "id": "cf08837a",
   "metadata": {},
   "outputs": [
    {
     "data": {
      "text/plain": [
       "<gbm.data.phaii.Cspec at 0x7feabf5e64a0>"
      ]
     },
     "execution_count": 3,
     "metadata": {},
     "output_type": "execute_result"
    }
   ],
   "source": [
    "cspec"
   ]
  },
  {
   "cell_type": "code",
   "execution_count": 4,
   "id": "686c0aaf",
   "metadata": {},
   "outputs": [
    {
     "data": {
      "text/plain": [
       "(-2866.480353832245, 4003.928243994713)"
      ]
     },
     "execution_count": 4,
     "metadata": {},
     "output_type": "execute_result"
    }
   ],
   "source": [
    "# Time range covered by the file\n",
    "cspec.time_range"
   ]
  },
  {
   "cell_type": "code",
   "execution_count": 5,
   "id": "d8c64b51",
   "metadata": {},
   "outputs": [
    {
     "data": {
      "text/plain": [
       "685451164.071294"
      ]
     },
     "execution_count": 5,
     "metadata": {},
     "output_type": "execute_result"
    }
   ],
   "source": [
    "# Trigger time in the file (Trigger Time = Fermi Mission Elapsed Time)\n",
    "cspec.trigtime"
   ]
  },
  {
   "cell_type": "code",
   "execution_count": 6,
   "id": "698c1f57",
   "metadata": {},
   "outputs": [
    {
     "data": {
      "text/plain": [
       "(4.6393914, 2000.0)"
      ]
     },
     "execution_count": 6,
     "metadata": {},
     "output_type": "execute_result"
    }
   ],
   "source": [
    "# Energy range (in MeV) covered by cspec file\n",
    "cspec.energy_range"
   ]
  },
  {
   "cell_type": "code",
   "execution_count": 7,
   "id": "ce6c6b02",
   "metadata": {},
   "outputs": [
    {
     "data": {
      "text/plain": [
       "128"
      ]
     },
     "execution_count": 7,
     "metadata": {},
     "output_type": "execute_result"
    }
   ],
   "source": [
    "# Number of energy channels in the file\n",
    "cspec.numchans"
   ]
  },
  {
   "cell_type": "code",
   "execution_count": 8,
   "id": "304007f7",
   "metadata": {},
   "outputs": [
    {
     "data": {
      "text/plain": [
       "odict_keys(['PRIMARY', 'EBOUNDS', 'SPECTRUM', 'GTI'])"
      ]
     },
     "execution_count": 8,
     "metadata": {},
     "output_type": "execute_result"
    }
   ],
   "source": [
    "# GBM data stores in the fits format or Metada stores as headers\n",
    "# Number of headers in the file\n",
    "cspec.headers.keys()"
   ]
  },
  {
   "cell_type": "code",
   "execution_count": 9,
   "id": "49472120",
   "metadata": {},
   "outputs": [
    {
     "data": {
      "text/plain": [
       "SIMPLE  =                    T / file does conform to FITS standard             \n",
       "BITPIX  =                    8 / number of bits per data pixel                  \n",
       "NAXIS   =                    0 / number of data axes                            \n",
       "EXTEND  =                    T / FITS dataset may contain extensions            \n",
       "COMMENT   FITS (Flexible Image Transport System) format is defined in 'Astronomy\n",
       "COMMENT   and Astrophysics', volume 376, page 359; bibcode: 2001A&A...376..359H \n",
       "CREATOR = 'GBM_SCI_Reader.pl v1.20' / Software and version creating file        \n",
       "FILETYPE= 'PHAII   '           / Name for this type of FITS file                \n",
       "FILE-VER= '1.0.0   '           / Version of the format for this filetype        \n",
       "TELESCOP= 'GLAST   '           / Name of mission/satellite                      \n",
       "INSTRUME= 'GBM     '           / Specific instrument used for observation       \n",
       "DETNAM  = 'NAI_02  '           / Individual detector name                       \n",
       "OBSERVER= 'Meegan  '           / GLAST Burst Monitor P.I.                       \n",
       "ORIGIN  = 'GIOC    '           / Name of organization making file               \n",
       "DATE    = '2022-09-21T13:37:13' / file creation date (YYYY-MM-DDThh:mm:ss UT)   \n",
       "DATE-OBS= '2022-09-21T10:18:17' / Date of start of observation                  \n",
       "DATE-END= '2022-09-21T12:12:47' / Date of end of observation                    \n",
       "TIMESYS = 'TT      '           / Time system used in time keywords              \n",
       "TIMEUNIT= 's       '           / Time since MJDREF, used in TSTART and TSTOP    \n",
       "MJDREFI =                51910 / MJD of GLAST reference epoch, integer part     \n",
       "MJDREFF = 7.428703703703703D-4 / MJD of GLAST reference epoch, fractional part  \n",
       "TSTART  =     685448297.590940 / [GLAST MET] Observation start time             \n",
       "TSTOP   =     685455167.999538 / [GLAST MET] Observation stop time              \n",
       "FILENAME= 'glg_cspec_n2_bn220921462_v00.pha' / Name of this file                \n",
       "DATATYPE= 'CSPEC   '           / GBM datatype used for this file                \n",
       "TRIGTIME=     685451164.071294 / Trigger time relative to MJDREF, double precisi\n",
       "OBJECT  = 'GRB220921462'       / Burst name in standard format, yymmddfff       \n",
       "RADECSYS= 'FK5     '           / Stellar reference frame                        \n",
       "EQUINOX =               2000.0 / Equinox for RA and Dec                         \n",
       "RA_OBJ  =              30.0000 / Calculated RA of burst                         \n",
       "DEC_OBJ =              -15.000 / Calculated Dec of burst                        \n",
       "ERR_RAD =                3.000 / Calculated Location Error Radius               \n",
       "INFILE01= 'glg_lutcs_nai_121126640_v00.fit' / Level 1 input lookup table file   \n",
       "INFILE02= 'GLAST_2022264_122000_VC09_GSPEC.0.00' / Level 0 input data file      \n",
       "INFILE03= 'GLAST_2022264_134500_VC09_GSPEC.0.00' / Level 0 input data file      \n",
       "CHECKSUM= 'Wem2ZZj1Wdj1WZj1'   / HDU checksum updated 2022-09-24T18:21:47       \n",
       "DATASUM = '0       '           / data unit checksum updated 2022-09-24T18:21:47 \n",
       "UREFTIME=     685451164.071294                                                  "
      ]
     },
     "execution_count": 9,
     "metadata": {},
     "output_type": "execute_result"
    }
   ],
   "source": [
    "# Primary headers in the file\n",
    "# To access any of the keywords, use astropy.io.fits\n",
    "cspec.headers['PRIMARY']"
   ]
  },
  {
   "cell_type": "code",
   "execution_count": 10,
   "id": "1a009dbc",
   "metadata": {},
   "outputs": [
    {
     "data": {
      "text/plain": [
       "<gbm.data.primitives.TimeEnergyBins at 0x7feabf139d50>"
      ]
     },
     "execution_count": 10,
     "metadata": {},
     "output_type": "execute_result"
    }
   ],
   "source": [
    "# Data stored in the cspec file can be directly accessed as\n",
    "# TimeEnergyBins is 2D histogram contains properties such as slicing over time and energy &\n",
    "# Integrating over time and energy\n",
    "cspec.data"
   ]
  },
  {
   "cell_type": "code",
   "execution_count": 11,
   "id": "302967f1",
   "metadata": {},
   "outputs": [],
   "source": [
    "# Lightcurve in the range 100 s before and 100 s after the TrigTime \n",
    "# Energy range in MeV\n",
    "lc = cspec.to_lightcurve(time_range = (-100.0, 100.0), energy_range = (100.0, 300000.0))"
   ]
  },
  {
   "cell_type": "code",
   "execution_count": 12,
   "id": "ee5a3a40",
   "metadata": {},
   "outputs": [],
   "source": [
    "# Variety of functions of lightcurve can be retrieved such as\n",
    "# 1. lc.centroids\n",
    "# 2. lc.closest_edge\n",
    "# 3. lc.contiguous_bins\n",
    "# 4. lc.count_uncertainty\n",
    "# 5. lc.counts\n",
    "# 6. lc.exposure\n",
    "# 7. lc.from_fits_array\n",
    "# 8. lc.hi_edges\n",
    "# 9. lc.lo_edges\n",
    "# 10. lc.merge\n",
    "# 11. lc.range\n",
    "# 12. lc.rate_uncertainty\n",
    "# 13. lc.rates\n",
    "# 14. lc.rebin\n",
    "# 15. lc.size\n",
    "# 16. lc.slice"
   ]
  },
  {
   "cell_type": "code",
   "execution_count": 13,
   "id": "cf9552d0",
   "metadata": {},
   "outputs": [
    {
     "data": {
      "text/plain": [
       "(-101.6337879896164, 100.09768211841583)"
      ]
     },
     "execution_count": 13,
     "metadata": {},
     "output_type": "execute_result"
    }
   ],
   "source": [
    "# Range of the lightcurve\n",
    "lc.range"
   ]
  },
  {
   "cell_type": "code",
   "execution_count": 14,
   "id": "7d3b98a3",
   "metadata": {},
   "outputs": [
    {
     "data": {
      "text/plain": [
       "122"
      ]
     },
     "execution_count": 14,
     "metadata": {},
     "output_type": "execute_result"
    }
   ],
   "source": [
    "# Number of bins\n",
    "lc.size"
   ]
  },
  {
   "cell_type": "code",
   "execution_count": 15,
   "id": "f9487367",
   "metadata": {},
   "outputs": [
    {
     "data": {
      "text/plain": [
       "array([1318, 1293, 1313, 1244, 1263, 1282, 1325, 1306, 1287, 1303, 1303,\n",
       "       1341, 1299, 1329, 1280, 1326, 1251, 1306, 1320, 1318, 1308, 1284,\n",
       "       1306, 1308, 1131,  753,  564,  553,  545,  617,  749, 1095, 1054,\n",
       "       1097,  836, 1230,  836,  663,  891,  568,  377,  376,  373,  414,\n",
       "        453,  407,  449,  394,  386,  371,  368,  371,  403,  325,  360,\n",
       "        356,  394,  543,  473,  534,  442,  390,  335,  340,  338,  337,\n",
       "        359,  359,  338,  334,  314,  282,  316,  357,  337,  339,  331,\n",
       "        325,  349,  311,  326,  364,  356,  340,  356,  343,  343,  320,\n",
       "        301,  374,  345,  335,  322,  350,  336,  308,  309,  336,  337,\n",
       "        331,  338,  323,  321,  337,  325,  309,  322,  322,  353,  291,\n",
       "        352,  342,  337,  336,  346,  341,  325,  314,  308,  325,  329,\n",
       "        317], dtype=uint64)"
      ]
     },
     "execution_count": 15,
     "metadata": {},
     "output_type": "execute_result"
    }
   ],
   "source": [
    "# Number of counts in each bin\n",
    "lc.counts"
   ]
  },
  {
   "cell_type": "code",
   "execution_count": 16,
   "id": "d5c1b77b",
   "metadata": {},
   "outputs": [],
   "source": [
    "# Plotting Lightcurve\n",
    "from gbm.plot import Lightcurve\n",
    "import matplotlib.pyplot as plt"
   ]
  },
  {
   "cell_type": "code",
   "execution_count": 17,
   "id": "be1f15b8",
   "metadata": {},
   "outputs": [
    {
     "data": {
      "image/png": "[encoded data removed]",
      "text/plain": [
       "<Figure size 770x470 with 1 Axes>"
      ]
     },
     "metadata": {},
     "output_type": "display_data"
    }
   ],
   "source": [
    "lcplot = Lightcurve(data=lc)\n",
    "plt.show()"
   ]
  },
  {
   "cell_type": "code",
   "execution_count": 18,
   "id": "54af9095",
   "metadata": {},
   "outputs": [
    {
     "data": {
      "text/plain": [
       "'#394264'"
      ]
     },
     "execution_count": 18,
     "metadata": {},
     "output_type": "execute_result"
    }
   ],
   "source": [
    "# Checking the color of the lightcurve\n",
    "lcplot.lightcurve.color"
   ]
  },
  {
   "cell_type": "code",
   "execution_count": 19,
   "id": "eb0badf1",
   "metadata": {},
   "outputs": [],
   "source": [
    "# Change the color of the lightcurve\n",
    "lcplot.lightcurve.color = 'red'"
   ]
  },
  {
   "cell_type": "code",
   "execution_count": 20,
   "id": "ba681367",
   "metadata": {},
   "outputs": [],
   "source": [
    "# Selecting the time range from the lightcurve\n",
    "spec = cspec.to_spectrum(time_range = (0.0, 40.0))"
   ]
  },
  {
   "cell_type": "code",
   "execution_count": 21,
   "id": "b25a430d",
   "metadata": {},
   "outputs": [],
   "source": [
    "# Plotting the Spectrum of the selected time_range\n",
    "from gbm.plot import Spectrum"
   ]
  },
  {
   "cell_type": "code",
   "execution_count": 22,
   "id": "2d2dbb91",
   "metadata": {},
   "outputs": [
    {
     "data": {
      "image/png": "[encoded data removed]",
      "text/plain": [
       "<Figure size 770x470 with 1 Axes>"
      ]
     },
     "metadata": {},
     "output_type": "display_data"
    }
   ],
   "source": [
    "# Counts spectrum\n",
    "specplot = Spectrum(data = spec)"
   ]
  },
  {
   "cell_type": "code",
   "execution_count": null,
   "id": "94625e68",
   "metadata": {},
   "outputs": [],
   "source": []
  }
 ],
 "metadata": {
  "kernelspec": {
   "display_name": "Python 3 (ipykernel)",
   "language": "python",
   "name": "python3"
  },
  "language_info": {
   "codemirror_mode": {
    "name": "ipython",
    "version": 3
   },
   "file_extension": ".py",
   "mimetype": "text/x-python",
   "name": "python",
   "nbconvert_exporter": "python",
   "pygments_lexer": "ipython3",
   "version": "3.10.6"
  }
 },
 "nbformat": 4,
 "nbformat_minor": 5
}
